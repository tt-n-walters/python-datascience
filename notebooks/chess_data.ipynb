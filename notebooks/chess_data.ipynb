{
 "cells": [
  {
   "cell_type": "code",
   "execution_count": 11,
   "metadata": {},
   "outputs": [],
   "source": [
    "import datetime\n",
    "import pandas as pd\n",
    "from matplotlib import pyplot"
   ]
  },
  {
   "cell_type": "code",
   "execution_count": 2,
   "metadata": {},
   "outputs": [],
   "source": [
    "def timestamp_converter(string):\n",
    "    timestamp = int(float(string) / 1000)\n",
    "    return datetime.datetime.fromtimestamp(timestamp)\n",
    "\n",
    "converter_functions = {\n",
    "    \"created_at\": timestamp_converter,\n",
    "    \"last_move_at\": timestamp_converter\n",
    "}"
   ]
  },
  {
   "cell_type": "code",
   "execution_count": 4,
   "metadata": {},
   "outputs": [],
   "source": [
    "games = pd.read_csv(\"../games.csv\", converters=converter_functions)"
   ]
  },
  {
   "cell_type": "code",
   "execution_count": 5,
   "metadata": {},
   "outputs": [],
   "source": [
    "player_names = []\n",
    "for name in games.white_id:\n",
    "    player_names.append(name)\n",
    "\n",
    "for name in games.black_id:\n",
    "    player_names.append(name)\n",
    "\n",
    "player_names = list(set(player_names))"
   ]
  },
  {
   "cell_type": "code",
   "execution_count": 7,
   "metadata": {
    "collapsed": true
   },
   "outputs": [
    {
     "name": "stdout",
     "output_type": "stream",
     "text": [
      "Processed 0 players.\r"
     ]
    },
    {
     "name": "stderr",
     "output_type": "stream",
     "text": [
      "<ipython-input-7-42e025e0704e>:9: UserWarning: Boolean Series key will be reindexed to match DataFrame index.\n",
      "  won_white = games_as_white[games.winner == \"white\"]\n",
      "<ipython-input-7-42e025e0704e>:10: UserWarning: Boolean Series key will be reindexed to match DataFrame index.\n",
      "  won_black = games_as_black[games.winner == \"black\"]\n"
     ]
    },
    {
     "name": "stdout",
     "output_type": "stream",
     "text": [
      "Processed 15630 players.2270 players. 2380 players. 2500 players. 2530 players. 3600 players. 3810 players. 4550 players. 4760 players. 4810 players. 6000 players. 6120 players. 6290 players. 6380 players. 6390 players. 6410 players. 6420 players. 6470 players. 6520 players. 6550 players. 6560 players. 6570 players. 6600 players. 6620 players. 6690 players. 6710 players. 6760 players. 6950 players. 7250 players. 7410 players. 7550 players. 7610 players. 7740 players. 8100 players. 8380 players. 8510 players. 8680 players. 8970 players. 9040 players. 9050 players. 9080 players. 9650 players. 10440 players. 10860 players. 10960 players. 10970 players. 11030 players. 11040 players. 11060 players. 11090 players. 11100 players. 11180 players. 11190 players. 11300 players. 11310 players. 11320 players. 11350 players. 11480 players. 11490 players. 11620 players. 11650 players. 12050 players. 12110 players. 12120 players. 12130 players. 12200 players. 12230 players. 12240 players. 12250 players. 12320 players. 12350 players. 12380 players. 12390 players. 12470 players. 12480 players. 12530 players. 12540 players. 12580 players. 12590 players. 12600 players. 12660 players. 12730 players. 12760 players. 12770 players. 12780 players. 12840 players. 12850 players. 12890 players. 12900 players.12910 players. 12990 players. 13000 players. 13020 players. 13030 players. 13070 players. 13110 players. 13120 players. 13730 players. 13800 players. 13850 players. 13890 players. 13980 players. 14000 players. 14020 players. 14030 players. 14040 players. 14050 players. 14070 players. 14100 players. 14110 players. 14120 players. 14130 players. 14230 players. 14240 players. 14250 players. 14280 players. 14290 players. 14320 players. 14390 players. 14450 players. 14490 players. 14500 players. 14510 players. 14610 players. 14620 players. 14730 players. 14790 players. 15030 players. 15040 players. 15100 players. 15140 players. 15240 players. 15300 players. 15320 players. 15330 players. 15340 players. 15360 players. 15430 players. 15510 players. 15520 players. 15560 players. 15570 players.\r"
     ]
    }
   ],
   "source": [
    "player_games = {}\n",
    "for i, name in enumerate(player_names):\n",
    "    if i % 10 == 0:\n",
    "        print(\"Processed\", i, \"players.\", end=\"\\r\")\n",
    "\n",
    "    # Extract all the games played in\n",
    "    games_as_white = games[games.white_id == name]\n",
    "    games_as_black = games[games.black_id == name]\n",
    "    won_white = games_as_white[games.winner == \"white\"]\n",
    "    won_black = games_as_black[games.winner == \"black\"]\n",
    "\n",
    "    count_won = len(won_white) + len(won_black)\n",
    "    player_games[name] = count_won"
   ]
  },
  {
   "cell_type": "code",
   "execution_count": 10,
   "metadata": {},
   "outputs": [
    {
     "name": "stdout",
     "output_type": "stream",
     "text": [
      "taranga 72\n",
      "oktry 0\n",
      "Wall time: 27 ms\n"
     ]
    }
   ],
   "source": [
    "%%time\n",
    "def get_player_wins(name):\n",
    "    return player_games[name]\n",
    "\n",
    "winner = max(player_games, key=get_player_wins)\n",
    "not_winner = min(player_games, key=get_player_wins)\n",
    "print(winner, get_player_wins(winner))\n",
    "print(not_winner, get_player_wins(not_winner))"
   ]
  },
  {
   "cell_type": "markdown",
   "metadata": {},
   "source": [
    "### Find all players who have won at least one match\n",
    "1. Extract the items from the dictionary, giving you a list of tuples.\n",
    "\n",
    "2. Find/remove players who have won 0 matches, or extract the players who have won at least 1\n",
    "\n",
    "```filter()```\n",
    "\n",
    "3. Print the number of players with at least one win."
   ]
  },
  {
   "cell_type": "code",
   "execution_count": null,
   "metadata": {},
   "outputs": [],
   "source": [
    "players_won_one = None\n"
   ]
  }
 ],
 "metadata": {
  "kernelspec": {
   "display_name": "Python 3",
   "language": "python",
   "name": "python3"
  },
  "language_info": {
   "codemirror_mode": {
    "name": "ipython",
    "version": 3
   },
   "file_extension": ".py",
   "mimetype": "text/x-python",
   "name": "python",
   "nbconvert_exporter": "python",
   "pygments_lexer": "ipython3",
   "version": "3.8.3"
  }
 },
 "nbformat": 4,
 "nbformat_minor": 4
}

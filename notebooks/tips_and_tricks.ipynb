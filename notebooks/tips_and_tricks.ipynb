{
 "cells": [
  {
   "cell_type": "markdown",
   "metadata": {},
   "source": [
    "### 1.    Want to loop over more than one list at a time"
   ]
  },
  {
   "cell_type": "code",
   "execution_count": 5,
   "metadata": {},
   "outputs": [
    {
     "name": "stdout",
     "output_type": "stream",
     "text": [
      "45 24 67\n",
      "92 21 5\n",
      "20 68 33\n",
      "71 47 11\n",
      "53 19 9\n"
     ]
    }
   ],
   "source": [
    "x_coords = [45, 92, 20, 71, 53]\n",
    "y_coords = [24, 21, 68, 47, 19]\n",
    "z_coords = [67, 5, 33, 11, 9]\n",
    "\n",
    "# for i in range(len(x_coords)):\n",
    "#     x = x_coords[i]\n",
    "#     y = y_coords[i]\n",
    "#     print(x, y)\n",
    "\n",
    "\n",
    "# for i, x in enumerate(x_coords):\n",
    "#     y = y_coords[i]\n",
    "#     print(x, y)\n",
    "\n",
    "\n",
    "for x, y, z in zip(x_coords, y_coords, z_coords):\n",
    "    print(x, y, z)"
   ]
  },
  {
   "cell_type": "markdown",
   "metadata": {},
   "source": [
    "### 2. Loop over some data, but have access to the index and items at the same time"
   ]
  },
  {
   "cell_type": "code",
   "execution_count": 6,
   "metadata": {},
   "outputs": [
    {
     "name": "stdout",
     "output_type": "stream",
     "text": [
      "The 0 character is P\n",
      "The 1 character is y\n",
      "The 2 character is t\n",
      "The 3 character is h\n",
      "The 4 character is o\n",
      "The 5 character is n\n",
      "The 6 character is  \n",
      "The 7 character is i\n",
      "The 8 character is s\n",
      "The 9 character is  \n",
      "The 10 character is a\n",
      "The 11 character is w\n",
      "The 12 character is e\n",
      "The 13 character is s\n",
      "The 14 character is o\n",
      "The 15 character is m\n",
      "The 16 character is e\n"
     ]
    }
   ],
   "source": [
    "string = \"Python is awesome\"\n",
    "\n",
    "for i, char in enumerate(string):\n",
    "    print(\"The\", i, \"character is\", char)\n"
   ]
  },
  {
   "cell_type": "markdown",
   "metadata": {},
   "source": [
    "### 3. Swap the value of two variables"
   ]
  },
  {
   "cell_type": "code",
   "execution_count": 13,
   "metadata": {},
   "outputs": [
    {
     "name": "stdout",
     "output_type": "stream",
     "text": [
      "Before\n",
      "a = 'hello there'\n",
      "b = 'general kenobi'\n",
      "\n",
      "After\n",
      "a = 'general kenobi'\n",
      "b = 'hello there'\n"
     ]
    }
   ],
   "source": [
    "a = \"hello there\"\n",
    "b = \"general kenobi\"\n",
    "print(\"Before\", f\"{a = }\", f\"{b = }\", sep=\"\\n\")\n",
    "\n",
    "# Other languages\n",
    "tmp = b\n",
    "b = a\n",
    "a = tmp\n",
    "\n",
    "\n",
    "# Pythonic\n",
    "a, b = b, a\n",
    "# Tuple deconstruction\n",
    "# Multiple returned args\n",
    "# *args **kwargs\n",
    "\n",
    "print(\"\\nAfter\", f\"{a = }\", f\"{b = }\", sep=\"\\n\")"
   ]
  },
  {
   "cell_type": "markdown",
   "metadata": {},
   "source": [
    "### 4. We want to inspect an object/module/class etc."
   ]
  },
  {
   "cell_type": "code",
   "execution_count": 14,
   "metadata": {},
   "outputs": [
    {
     "name": "stdout",
     "output_type": "stream",
     "text": [
      "['__doc__', '__loader__', '__name__', '__package__', '__spec__', 'acos', 'acosh', 'asin', 'asinh', 'atan', 'atan2', 'atanh', 'ceil', 'comb', 'copysign', 'cos', 'cosh', 'degrees', 'dist', 'e', 'erf', 'erfc', 'exp', 'expm1', 'fabs', 'factorial', 'floor', 'fmod', 'frexp', 'fsum', 'gamma', 'gcd', 'hypot', 'inf', 'isclose', 'isfinite', 'isinf', 'isnan', 'isqrt', 'ldexp', 'lgamma', 'log', 'log10', 'log1p', 'log2', 'modf', 'nan', 'perm', 'pi', 'pow', 'prod', 'radians', 'remainder', 'sin', 'sinh', 'sqrt', 'tan', 'tanh', 'tau', 'trunc']\n"
     ]
    }
   ],
   "source": [
    "import math\n",
    "\n",
    "print(dir(math))\n"
   ]
  },
  {
   "cell_type": "markdown",
   "metadata": {},
   "source": [
    "### 5. Printing larger, more complicated data\n",
    "\n",
    "Fitting in with the previous, import a module, and then print its contents."
   ]
  },
  {
   "cell_type": "code",
   "execution_count": 44,
   "metadata": {},
   "outputs": [],
   "source": [
    "import random\n",
    "from pprint import pprint\n",
    "stuff = [random.randint(1, 1000) for _ in range(1000)]\n",
    "# pprint(stuff)\n",
    "\n"
   ]
  },
  {
   "cell_type": "markdown",
   "metadata": {},
   "source": [
    "### 6. Initialising a list with starting values\n",
    "\n",
    "Create a list with 5 0s"
   ]
  },
  {
   "cell_type": "code",
   "execution_count": 26,
   "metadata": {},
   "outputs": [
    {
     "name": "stdout",
     "output_type": "stream",
     "text": [
      "Wall time: 3.93 s\n"
     ]
    }
   ],
   "source": [
    "%%time\n",
    "numbers = []\n",
    "for _ in range(10000000):\n",
    "    numbers.append(0)"
   ]
  },
  {
   "cell_type": "code",
   "execution_count": 28,
   "metadata": {},
   "outputs": [
    {
     "name": "stdout",
     "output_type": "stream",
     "text": [
      "Wall time: 2.26 s\n"
     ]
    }
   ],
   "source": [
    "%time numbers = [0 for _ in range(10000000)]"
   ]
  },
  {
   "cell_type": "code",
   "execution_count": 31,
   "metadata": {},
   "outputs": [
    {
     "name": "stdout",
     "output_type": "stream",
     "text": [
      "10000000\n",
      "Wall time: 206 ms\n"
     ]
    }
   ],
   "source": [
    "%%time\n",
    "numbers = [0] * 10000000\n",
    "print(len(numbers))"
   ]
  },
  {
   "cell_type": "markdown",
   "metadata": {},
   "source": [
    "### 7. Accessing a dictionary if you are unsure if certain keys exist"
   ]
  },
  {
   "cell_type": "code",
   "execution_count": 39,
   "metadata": {},
   "outputs": [
    {
     "name": "stdout",
     "output_type": "stream",
     "text": [
      "black\n",
      "black\n",
      "She doesn't exist.\n"
     ]
    }
   ],
   "source": [
    "people = {\n",
    "    \"arthur\": \"ginger\",\n",
    "    \"bill\": \"ginger\",\n",
    "    \"charlie\": \"ginger\",\n",
    "    \"dobby\": \"bald\",\n",
    "    \"errol\": \"feathers\",\n",
    "    \"fred\": \"ginger\",\n",
    "    \"george\": \"ginger\",\n",
    "    \"harry\": \"black\"\n",
    "}\n",
    "\n",
    "print(people[\"harry\"])\n",
    "print(people.get(\"harry\"))\n",
    "print(people.get(\"hermione\", \"She doesn't exist.\"))\n",
    "\n",
    "\n",
    "# if \"hermione\" in people:\n",
    "#     print(people[\"hermione\"])\n",
    "# else:\n",
    "#     print(\"She doesn't exist.\")\n",
    "\n",
    "# try:\n",
    "#     print(people[\"hermione\"])\n",
    "# except KeyError:\n",
    "#     print(\"She doesn't exist.\")"
   ]
  },
  {
   "cell_type": "markdown",
   "metadata": {},
   "source": [
    "### 8. Making comparisons more concise\n",
    "\n",
    "\n",
    "To join classes in TechTalents you must be older than 6 and younger than 18."
   ]
  },
  {
   "cell_type": "code",
   "execution_count": 43,
   "metadata": {},
   "outputs": [
    {
     "name": "stdout",
     "output_type": "stream",
     "text": [
      "Sorry. Go to university or something.\n",
      "Which mode would you like to run? 2, 3, 4, 7, 9, 10, 15?q721387e123\n",
      "Invalid input you moron.\n"
     ]
    }
   ],
   "source": [
    "age = 19\n",
    "\n",
    "# if age > 6 and age < 18:\n",
    "if 6 < age < 18:\n",
    "    print(\"You can take a class!\")\n",
    "else:\n",
    "    print(\"Sorry. Go to university or something.\")\n",
    "\n",
    "\n",
    "choice = input(\"Which mode would you like to run? 2, 3, 4, 7, 9, 10, 15?\")\n",
    "valid_choices = [\"2\", \"3\", \"4\", \"7\", \"9\", \"10\", \"15\"]\n",
    "if not choice in valid_choices:\n",
    "    print(\"Invalid input you moron.\")\n",
    "else:\n",
    "    print(\"Running program...\")"
   ]
  }
 ],
 "metadata": {
  "kernelspec": {
   "display_name": "Python 3",
   "language": "python",
   "name": "python3"
  },
  "language_info": {
   "codemirror_mode": {
    "name": "ipython",
    "version": 3
   },
   "file_extension": ".py",
   "mimetype": "text/x-python",
   "name": "python",
   "nbconvert_exporter": "python",
   "pygments_lexer": "ipython3",
   "version": "3.8.3"
  }
 },
 "nbformat": 4,
 "nbformat_minor": 4
}
